{
 "cells": [
  {
   "cell_type": "markdown",
   "id": "e67efcb9",
   "metadata": {},
   "source": [
    "# 0.0 Imports"
   ]
  },
  {
   "cell_type": "code",
   "execution_count": 21,
   "id": "df068a8f",
   "metadata": {
    "ExecuteTime": {
     "end_time": "2023-01-17T16:46:06.070275Z",
     "start_time": "2023-01-17T16:46:06.041110Z"
    }
   },
   "outputs": [],
   "source": [
    "import pandas as pd\n",
    "import inflection"
   ]
  },
  {
   "cell_type": "markdown",
   "id": "2248788d",
   "metadata": {},
   "source": [
    "## 0.1 Helper Functionts"
   ]
  },
  {
   "cell_type": "markdown",
   "id": "f2e8fc24",
   "metadata": {},
   "source": [
    "## 0.2 Loading Data"
   ]
  },
  {
   "cell_type": "code",
   "execution_count": 16,
   "id": "d14710b4",
   "metadata": {
    "ExecuteTime": {
     "end_time": "2023-01-17T16:42:25.346549Z",
     "start_time": "2023-01-17T16:42:24.474400Z"
    }
   },
   "outputs": [],
   "source": [
    "df_sales_raw = pd.read_csv( 'C:/Users/felip/ds_em_producao/ds_em_producao/datasets/train.csv' , low_memory = False)\n",
    "df_store_raw = pd.read_csv( 'C:/Users/felip/ds_em_producao/ds_em_producao/datasets/store.csv' , low_memory = False)\n",
    "\n",
    "\n",
    "# merging datasets\n",
    "\n",
    "df_raw = pd.merge(df_sales_raw , df_store_raw , how = 'left' , on = 'Store')"
   ]
  },
  {
   "cell_type": "markdown",
   "id": "16e2cf90",
   "metadata": {},
   "source": [
    "# 1.0 Descrição dos Dados"
   ]
  },
  {
   "cell_type": "code",
   "execution_count": 17,
   "id": "a6b626a6",
   "metadata": {
    "ExecuteTime": {
     "end_time": "2023-01-17T16:42:32.825050Z",
     "start_time": "2023-01-17T16:42:32.658398Z"
    }
   },
   "outputs": [],
   "source": [
    "df1 = df_raw.copy()"
   ]
  },
  {
   "cell_type": "markdown",
   "id": "37fc935f",
   "metadata": {},
   "source": [
    "## 1.1 Rename Columns"
   ]
  },
  {
   "cell_type": "code",
   "execution_count": 22,
   "id": "6e1a154b",
   "metadata": {
    "ExecuteTime": {
     "end_time": "2023-01-17T16:47:26.440242Z",
     "start_time": "2023-01-17T16:47:26.424220Z"
    }
   },
   "outputs": [],
   "source": [
    "cols_old = ['Store', 'DayOfWeek', 'Date', 'Sales', 'Customers', 'Open', 'Promo','StateHoliday', 'SchoolHoliday', 'StoreType', 'Assortment',\n",
    "            'CompetitionDistance', 'CompetitionOpenSinceMonth','CompetitionOpenSinceYear', 'Promo2', 'Promo2SinceWeek',\n",
    "            'Promo2SinceYear', 'PromoInterval']\n",
    "\n",
    "snakecase = lambda x: inflection.underscore(x)\n",
    "\n",
    "cols_new = list(map(snakecase , cols_old))\n",
    "\n",
    "# rename\n",
    "\n",
    "df1.columns = cols_new"
   ]
  },
  {
   "cell_type": "markdown",
   "id": "dfba43c1",
   "metadata": {},
   "source": [
    "## 1.2 Data Dimentions"
   ]
  },
  {
   "cell_type": "code",
   "execution_count": 25,
   "id": "08a9105f",
   "metadata": {
    "ExecuteTime": {
     "end_time": "2023-01-17T16:50:08.338584Z",
     "start_time": "2023-01-17T16:50:08.321284Z"
    }
   },
   "outputs": [
    {
     "name": "stdout",
     "output_type": "stream",
     "text": [
      "Number of Rows: 1017209\n",
      "Number of Columns: 18\n"
     ]
    }
   ],
   "source": [
    "print('Number of Rows: {}'.format(df1.shape[0]))\n",
    "print('Number of Columns: {}'.format(df1.shape[1]))"
   ]
  },
  {
   "cell_type": "markdown",
   "id": "79efbbf7",
   "metadata": {
    "heading_collapsed": true
   },
   "source": [
    "## 1.3 Data Types"
   ]
  },
  {
   "cell_type": "code",
   "execution_count": 28,
   "id": "e701adde",
   "metadata": {
    "ExecuteTime": {
     "end_time": "2023-01-17T16:52:33.280848Z",
     "start_time": "2023-01-17T16:52:33.063918Z"
    },
    "hidden": true
   },
   "outputs": [
    {
     "data": {
      "text/plain": [
       "store                                    int64\n",
       "day_of_week                              int64\n",
       "date                            datetime64[ns]\n",
       "sales                                    int64\n",
       "customers                                int64\n",
       "open                                     int64\n",
       "promo                                    int64\n",
       "state_holiday                           object\n",
       "school_holiday                           int64\n",
       "store_type                              object\n",
       "assortment                              object\n",
       "competition_distance                   float64\n",
       "competition_open_since_month           float64\n",
       "competition_open_since_year            float64\n",
       "promo2                                   int64\n",
       "promo2_since_week                      float64\n",
       "promo2_since_year                      float64\n",
       "promo_interval                          object\n",
       "dtype: object"
      ]
     },
     "execution_count": 28,
     "metadata": {},
     "output_type": "execute_result"
    }
   ],
   "source": [
    "df1['date'] = pd.to_datetime(df1['date'])\n",
    "\n",
    "df1.dtypes"
   ]
  },
  {
   "cell_type": "markdown",
   "id": "89741279",
   "metadata": {},
   "source": [
    "## 1.4 Check NA"
   ]
  },
  {
   "cell_type": "code",
   "execution_count": 29,
   "id": "41f34785",
   "metadata": {
    "ExecuteTime": {
     "end_time": "2023-01-17T16:53:20.378484Z",
     "start_time": "2023-01-17T16:53:19.680965Z"
    }
   },
   "outputs": [
    {
     "data": {
      "text/plain": [
       "store                                0\n",
       "day_of_week                          0\n",
       "date                                 0\n",
       "sales                                0\n",
       "customers                            0\n",
       "open                                 0\n",
       "promo                                0\n",
       "state_holiday                        0\n",
       "school_holiday                       0\n",
       "store_type                           0\n",
       "assortment                           0\n",
       "competition_distance              2642\n",
       "competition_open_since_month    323348\n",
       "competition_open_since_year     323348\n",
       "promo2                               0\n",
       "promo2_since_week               508031\n",
       "promo2_since_year               508031\n",
       "promo_interval                  508031\n",
       "dtype: int64"
      ]
     },
     "execution_count": 29,
     "metadata": {},
     "output_type": "execute_result"
    }
   ],
   "source": [
    "df1.isna().sum()"
   ]
  },
  {
   "cell_type": "code",
   "execution_count": null,
   "id": "192650e9",
   "metadata": {},
   "outputs": [],
   "source": []
  },
  {
   "cell_type": "markdown",
   "id": "614cfdc8",
   "metadata": {},
   "source": [
    "## 1.2 Imports"
   ]
  },
  {
   "cell_type": "markdown",
   "id": "fe78ea58",
   "metadata": {},
   "source": [
    "## 1.2 Imports"
   ]
  },
  {
   "cell_type": "markdown",
   "id": "e86daeb3",
   "metadata": {},
   "source": [
    "## 1.2 Imports"
   ]
  },
  {
   "cell_type": "markdown",
   "id": "1ca85b4b",
   "metadata": {},
   "source": [
    "## 1.2 Imports"
   ]
  }
 ],
 "metadata": {
  "kernelspec": {
   "display_name": "Python 3 (ipykernel)",
   "language": "python",
   "name": "python3"
  },
  "language_info": {
   "codemirror_mode": {
    "name": "ipython",
    "version": 3
   },
   "file_extension": ".py",
   "mimetype": "text/x-python",
   "name": "python",
   "nbconvert_exporter": "python",
   "pygments_lexer": "ipython3",
   "version": "3.8.15"
  }
 },
 "nbformat": 4,
 "nbformat_minor": 5
}
